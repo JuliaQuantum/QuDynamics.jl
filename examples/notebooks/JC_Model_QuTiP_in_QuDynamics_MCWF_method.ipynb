{
 "metadata": {
  "name": ""
 },
 "nbformat": 3,
 "nbformat_minor": 0,
 "worksheets": [
  {
   "cells": [
    {
     "cell_type": "code",
     "collapsed": false,
     "input": [
      "require(\"/home/amit/Downloads/SemVII/QuBase.jl/src/QuBase.jl\")\n",
      "using QuBase\n",
      "require(\"/home/amit/Downloads/SemVII/QuDynamics.jl/src/QuDynamics.jl\")\n",
      "using QuDynamics"
     ],
     "language": "python",
     "metadata": {},
     "outputs": [],
     "prompt_number": 1
    },
    {
     "cell_type": "code",
     "collapsed": false,
     "input": [
      "using PyPlot"
     ],
     "language": "python",
     "metadata": {},
     "outputs": [
      {
       "output_type": "stream",
       "stream": "stderr",
       "text": [
        "INFO: Loading help data...\n"
       ]
      }
     ],
     "prompt_number": 2
    },
    {
     "cell_type": "code",
     "collapsed": false,
     "input": [
      "wc = 1.0 * 2 * pi   # cavity frequency\n",
      "wa = 1.0 * 2 * pi   # atom frequency\n",
      "g  = 0.25 * 2 * pi  # coupling strength\n",
      "kappa = 0.05        # cavity dissipation rate\n",
      "gamma = 0.15        # atom dissipation rate\n",
      "use_rwa = true"
     ],
     "language": "python",
     "metadata": {},
     "outputs": [
      {
       "metadata": {},
       "output_type": "pyout",
       "prompt_number": 3,
       "text": [
        "true"
       ]
      }
     ],
     "prompt_number": 3
    },
    {
     "cell_type": "code",
     "collapsed": false,
     "input": [
      "# Hamiltonian\n",
      "idc = QuArray(eye(10))\n",
      "ida = QuArray(eye(2))\n",
      "a  = tensor(ida, lowerop(10))\n",
      "sm = tensor(lowerop(2), idc)\n",
      "if use_rwa\n",
      "    # use the rotating wave approxiation\n",
      "    hamiltonian = wc * a' * a + wa * sm' * sm + g * (a' * sm + a * sm')\n",
      "else\n",
      "    hamiltonian = wc * a' * a + wa * sm' * sm + g * (a' + a) * (sm + sm')\n",
      "end\n",
      "init_state = complex(tensor(statevec(1, FiniteBasis(2)), statevec(6, FiniteBasis(10))))\n",
      "init_state_dm = complex(init_state*init_state')\n",
      "tlist = linspace(0., 10., 200)\n",
      "c_ops = [sqrt(0.1) * a]"
     ],
     "language": "python",
     "metadata": {},
     "outputs": [
      {
       "metadata": {},
       "output_type": "pyout",
       "prompt_number": 4,
       "text": [
        "1-element Array{QuArray{FiniteBasis{Orthonormal},Float64,2,SparseMatrixCSC{Float64,Int64}},1}:\n",
        " 20x20 QuMatrix in FiniteBasis{Orthonormal}:\n",
        "...coefficients: SparseMatrixCSC{Float64,Int64}\n",
        "\n",
        "\t[1 ,  2]  =  0.316228\n",
        "\t[2 ,  3]  =  0.447214\n",
        "\t[3 ,  4]  =  0.547723\n",
        "\t[4 ,  5]  =  0.632456\n",
        "\t[5 ,  6]  =  0.707107\n",
        "\t[6 ,  7]  =  0.774597\n",
        "\t[7 ,  8]  =  0.83666\n",
        "\t[8 ,  9]  =  0.894427\n",
        "\t[9 , 10]  =  0.948683\n",
        "\t[11, 12]  =  0.316228\n",
        "\t[12, 13]  =  0.447214\n",
        "\t[13, 14]  =  0.547723\n",
        "\t[14, 15]  =  0.632456\n",
        "\t[15, 16]  =  0.707107\n",
        "\t[16, 17]  =  0.774597\n",
        "\t[17, 18]  =  0.83666\n",
        "\t[18, 19]  =  0.894427\n",
        "\t[19, 20]  =  0.948683"
       ]
      }
     ],
     "prompt_number": 4
    },
    {
     "cell_type": "code",
     "collapsed": false,
     "input": [
      "rho = Array(typeof(init_state_dm), length(tlist)-1)\n",
      "qumcwfen = QuMCWFEnsemble(complex(init_state), 1000)\n",
      "for i=1:length(tlist)-1\n",
      "    rho[i] = complex(zeros(init_state_dm))\n",
      "end"
     ],
     "language": "python",
     "metadata": {},
     "outputs": [],
     "prompt_number": 5
    },
    {
     "cell_type": "code",
     "collapsed": false,
     "input": [
      "for psi0 in qumcwfen\n",
      "    i = 1\n",
      "    mcwf = QuMCWF()\n",
      "    for (t,psi) in QuPropagator(hamiltonian, c_ops, psi0, tlist, mcwf)\n",
      "        rho[i] = rho[i] + (psi*psi')/length(qumcwfen)/norm(psi)^2\n",
      "        i = i + 1\n",
      "    end\n",
      "end"
     ],
     "language": "python",
     "metadata": {},
     "outputs": [],
     "prompt_number": 6
    },
    {
     "cell_type": "code",
     "collapsed": false,
     "input": [
      "for i in 1:length(tlist)-1\n",
      "    plot(tlist[i], real(trace(rho[i]*a'* a)), \"ro\")\n",
      "    plot(tlist[i], real(trace(rho[i]*sm'* sm)), \"go\")\n",
      "end"
     ],
     "language": "python",
     "metadata": {},
     "outputs": [
      {
       "metadata": {},
       "output_type": "display_data",
       "png": "[encoded data removed]",
       "text": [
        "Figure(PyObject <matplotlib.figure.Figure object at 0x7f0403b850d0>)"
       ]
      }
     ],
     "prompt_number": 7
    },
    {
     "cell_type": "code",
     "collapsed": false,
     "input": [],
     "language": "python",
     "metadata": {},
     "outputs": []
    }
   ],
   "metadata": {}
  }
 ]
}